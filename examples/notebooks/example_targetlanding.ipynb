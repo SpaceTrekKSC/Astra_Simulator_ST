{
 "cells": [
  {
   "cell_type": "markdown",
   "metadata": {},
   "source": [
    "# Astra target landing site example"
   ]
  },
  {
   "cell_type": "markdown",
   "metadata": {},
   "source": [
    "## Derivation of Nozzle lift equation (fixed ascent rate)"
   ]
  },
  {
   "cell_type": "markdown",
   "metadata": {},
   "source": [
    "An estimate of the bounds of Nozzle lift is required for scipy's differential evolution algorithm. We'll use a primitive approach, since the method calculates (integrates) the ascent rate equation anyway, and a penalty method will be used for ascent rates reaching outside the desired boundaries.\n",
    "\n",
    "Force balance:\n",
    "\n",
    "\\begin{equation}\n",
    "(m_{bal} + m_{pay} + m_{gas}) \\frac{d^2z}{dt^2} = B - W - D = 0\\\\\n",
    "B = W + D\\\\\n",
    "V(\\rho_{air} - \\rho_{gas}) g = (m_{bal} + m_{pay})g + \\frac{1}{2} \\rho_{air} \\left(\\frac{dz}{dt}\\right)^2 C_D A\n",
    "\\end{equation}\n",
    "\n",
    "Then use balloon volume to get a 3rd order polynomial in terms of $r$\n",
    "\n",
    "\\begin{equation}\n",
    "\\frac{4}{3} \\pi (\\rho_{air} - \\rho_{gas}) g r^3 - \\frac{1}{2} \\rho_{air} \\left(\\frac{dz}{dt}\\right)^2 C_D \\pi r^2 - (m_{bal} + m_{pay})g = 0\n",
    "\\end{equation}\n",
    "\n",
    "Solve for r, and extract real positive root (should be unique: otherwise, raise an error). Then use the relation of gas mass (eqn 3 in \"High-Altitude Gas Balloon Trajectory Prediction: A Monte Carlo Model\") to obtain the nozzle lift:\n",
    "\n",
    "\\begin{equation}\n",
    "m_{gas} = \\rho^0_{gas} V^0 = \\rho^0_{gas} \\frac{L_N/g + m_{bal}}{\\rho^0_{air} - \\rho^0_{gas}}\\\\\n",
    "L_N/g = \\frac{4\\pi}{3} r^3 (\\rho_{air}-\\rho_{gas}) - m_{bal} \\hspace{1em} (kg)\n",
    "\\end{equation}\n",
    "\n",
    "This is found in ```astra.flight_tools.nozzleLiftFixedAscent```, and has been validated with [habhub](http://habhub.org/calc/), which gives nozzle lift values of the same magnitude, and similar value (+- 10%)"
   ]
  },
  {
   "cell_type": "markdown",
   "metadata": {},
   "source": [
    "## Ground distance equation"
   ]
  },
  {
   "cell_type": "markdown",
   "metadata": {},
   "source": [
    "The Haversine formula is used to obtain ground distance $\\Delta$ of the landing site from its target (assuming a spherical Earth), as\n",
    "\n",
    "\\begin{equation}\n",
    "    \\Delta = 2r\\dot{}\\mathrm{arcsin}\\left( \\sqrt{\\mathrm{sin^2} \\left( \\frac{\\phi_2 - \\phi_1}{2}\\right) + \\mathrm{cos}(\\phi_1) \\mathrm{cos}(\\phi_2) \\mathrm{sin}^2 \\left(\\frac{\\lambda_2 - \\lambda_1}{2}\\right)  }\\right),\n",
    "\\end{equation}\n",
    "\n",
    "where $\\phi, \\lambda$ refer to latitude and longitude respectively, and $r$ is the Earth's average radius ($=6371km$)"
   ]
  },
  {
   "cell_type": "markdown",
   "metadata": {},
   "source": [
    "## 2D Optimization: Time + Nozzle Lift"
   ]
  },
  {
   "cell_type": "code",
   "execution_count": null,
   "metadata": {
    "collapsed": true
   },
   "outputs": [],
   "source": [
    "%load_ext autoreload\n",
    "%autoreload\n",
    "import astra\n",
    "from astra.target_landing import targetFlight\n",
    "from datetime import datetime, timedelta\n",
    "import matplotlib.pyplot as plt\n",
    "from mpl_toolkits.mplot3d import Axes3D\n",
    "import numpy as np\n",
    "from scipy.interpolate import interp1d\n",
    "from astra.weather import forecastEnvironment\n",
    "import astra\n",
    "import os\n",
    "from astra.GFS import GFS_Handler\n",
    "%matplotlib notebook"
   ]
  },
  {
   "cell_type": "code",
   "execution_count": null,
   "metadata": {},
   "outputs": [],
   "source": [
    "targetLat = 51.077214\n",
    "targetLon = -1.1866875398775423\n",
    "targetElev = 137\n",
    "\n",
    "# Set the optimisation weights used for [distance from target, cost, flight duration] respectively:\n",
    "# Note that these are negative, because we'd like to a minimize both.\n",
    "weights = (-1, -0.1, -0.)\n",
    "\n",
    "# Use a previous forecast (allows offline development)\n",
    "launch_datetime = datetime(2017,6,23, 15)\n",
    "inputs = {}\n",
    "# simEnvironment = forecastEnvironment(launchSiteLat=50.903824,      # deg\n",
    "#                                      launchSiteLon=-1.63697,     # deg\n",
    "#                                      launchSiteElev=114.0,           # m\n",
    "#                                      dateAndTime=launch_datetime,\n",
    "#                                      forceNonHD=True,\n",
    "#                                      debugging=True,\n",
    "#                                      requestSimultaneous=False  # False has better memory overhead\n",
    "#                                     )\n",
    "# # Set up the example input data files (from 22/06/2017, Daytona Beach)\n",
    "# fileDict = {}\n",
    "# for paramName in GFS_Handler.weatherParameters.keys():\n",
    "#     fileDict[paramName] = os.path.abspath('./data/gfs_0p50_06z.ascii?{}[11:36][0:46][263:301][0:719]'.format(paramName))\n",
    "# simEnvironment.loadFromNOAAFiles(fileDict)\n",
    "# inputs['lanuchSiteForecasts'] = simEnvironment\n",
    "\n",
    "simulator = targetFlight(start_dateTime=launch_datetime,\n",
    "                 targetLat=targetLat,\n",
    "                 targetLon=targetLon,\n",
    "                 targetElev=targetElev,\n",
    "                 launchSites=[(50.903824, -1.63697, 114.0)],\n",
    "                 balloonModel='TA100',\n",
    "                 balloonGasType=\"Helium\",\n",
    "                 nozzleLift=1,\n",
    "                 trainEquivSphereDiam=0.1,\n",
    "                 inflationTemperature=0.0,\n",
    "                 payloadTrainWeight=0.38,\n",
    "                 windowDuration=72,\n",
    "                 weights=weights,\n",
    "                 HD=False,\n",
    "                 maxFlightTime=18000,\n",
    "                 parachuteModel=None,\n",
    "                 debugging=True,\n",
    "                 log_to_file=False,\n",
    "                 progress_to_file=False,\n",
    "                 outputFile=os.path.join(''),\n",
    "                 **inputs)"
   ]
  },
  {
   "cell_type": "markdown",
   "metadata": {},
   "source": [
    "Check Weather Interpolators work over this range (i.e., ensure they are not constant/extrapolations)"
   ]
  },
  {
   "cell_type": "code",
   "execution_count": null,
   "metadata": {
    "scrolled": true
   },
   "outputs": [],
   "source": [
    "import copy\n",
    "%autoreload\n",
    "import astra\n",
    "\n",
    "# Number of x-y points to use\n",
    "Nx = 21\n",
    "Ny = 21\n",
    "\n",
    "simulator.balloonModel = 'TA100'\n",
    "simulator.weights = (-1, -0.1, -0.)\n",
    "\n",
    "# This will download the forecast, if it hasn't been loaded already\n",
    "bestProfile_bf, X, Y,scores = simulator.bruteForce(Nx, Ny)\n",
    "results_bf = copy.deepcopy(simulator.results)"
   ]
  },
  {
   "cell_type": "code",
   "execution_count": null,
   "metadata": {
    "collapsed": true
   },
   "outputs": [],
   "source": [
    "# Temperature visualation at the landing site, over the time window\n",
    "import matplotlib.dates as mdates\n",
    "\n",
    "simEnvironment = simulator.environment\n",
    "\n",
    "# Plot weather as a function of time over the date range:\n",
    "ts = np.linspace(0, simulator.windowDuration, 3001)\n",
    "datetimes = [simEnvironment.dateAndTime + timedelta(hours=t) for t in ts]\n",
    "\n",
    "Ps = [simEnvironment.getTemperature(simEnvironment.launchSiteLat,\n",
    "                                        simEnvironment.launchSiteLon,\n",
    "                                        simEnvironment.launchSiteElev, dt)\n",
    "          for dt in datetimes]\n",
    "\n",
    "fig = plt.figure()\n",
    "ax = fig.add_subplot(111)\n",
    "ax.plot(datetimes, Ps)\n",
    "ax.set_ylabel(\"Temperature\")\n",
    "ax.set_xlabel(\"Time after start date (hours)\")\n",
    "\n",
    "xtick_locator = mdates.AutoDateLocator()\n",
    "xtick_formatter = mdates.AutoDateFormatter(xtick_locator)\n",
    "ax.xaxis.set_major_locator(xtick_locator)\n",
    "ax.xaxis.set_major_formatter(xtick_formatter)\n",
    "ax.set_xlim(datetimes[0], datetimes[-1])\n",
    "\n",
    "fig.autofmt_xdate()"
   ]
  },
  {
   "cell_type": "code",
   "execution_count": null,
   "metadata": {},
   "outputs": [],
   "source": [
    "# simulator.results contains the lexographically sorted pareto front of the\n",
    "# non dominated flights (based on weighted distance vs cost)\n",
    "import matplotlib.tri as mtri\n",
    "\n",
    "\n",
    "def plotParetoFront(fitnesses, paretoFront):\n",
    "    \"\"\"Plots the points stored in the simulator.ParetoFront (containing the non-dominated\n",
    "    Pareto efficient individuals).\n",
    "    \n",
    "    Notes\n",
    "    -----\n",
    "    * Only works for 2 or 3 objectives. \n",
    "    * Assumes that all fitnesses have the same number of values and weightings\n",
    "    \"\"\"\n",
    "    nonzero_indices = np.nonzero(fitnesses[0].weights)[0]\n",
    "    assert(len(nonzero_indices) >= 2),\\\n",
    "        \"Input fitness array has less than 2 weighted objectives: no useful Pareto solutions.\"\n",
    "        \n",
    "    # Dictionary of weight_index : label pairs. Extract the axes labels for the non zero weighted vars\n",
    "    axlabelsAvailable = {0: r'$\\bar{\\Delta} \\cdot w_1$',\n",
    "                       1: r'$\\bar{m}_{gas} \\cdot w_2$',\n",
    "                       2: r'$\\bar{t} \\cdot w_3$'}\n",
    "    axlabels = [axlabelsAvailable[idx] for idx in nonzero_indices]\n",
    "    \n",
    "    if len(nonzero_indices) == 2:\n",
    "        fig = plt.figure()\n",
    "        ax = fig.add_subplot(111)\n",
    "        fs = list(zip(*[fitness.wvalues for fitness in fitnesses]))\n",
    "        f1 = -np.array(fs[nonzero_indices[0]])\n",
    "        f2 = -np.array(fs[nonzero_indices[1]])\n",
    "        ax.plot(f1, f2, 'kx')\n",
    "        pareto_vars = list(zip(*[profile.fitness.wvalues for profile in paretoFront]))\n",
    "        pareto_array = -np.array([pareto_vars[nonzero_indices[0]], pareto_vars[nonzero_indices[1]]]).T\n",
    "        pareto_array = pareto_array[np.argsort(pareto_array[:, 1])]\n",
    "        ax.plot(pareto_array[:, 0], pareto_array[:, 1], 'ko--', mfc='none',\n",
    "                markersize=16, label='Pareto front')\n",
    "\n",
    "        # Find best (assumes that the weights are tuned to how import each parameter is)\n",
    "        iBest = np.argmin(pareto_array[:,0] + pareto_array[:, 1])\n",
    "        ax.plot(pareto_array[iBest, 0], pareto_array[iBest, 1], 'k*', markersize=12, label='Best')\n",
    "\n",
    "        # Formatting\n",
    "        ax.set_xlabel(axlabels[0])\n",
    "        ax.set_ylabel(axlabels[1])\n",
    "        ax.legend(loc='upper right')\n",
    "        \n",
    "    elif len(nonzero_indices) == 3:\n",
    "        fig = plt.figure()\n",
    "        ax = fig.add_subplot(111, projection='3d')\n",
    "        f1, f2, f3 = zip(*[fitness.wvalues for fitness in fitnesses])\n",
    "        f1 = -np.array(f1)\n",
    "        f2 = -np.array(f2)\n",
    "        f3 = -np.array(f3)\n",
    "        ax.scatter(f1, f2, f3, label='Brute Force Points')\n",
    "        pareto_x, pareto_y, pareto_z = zip(*[profile.fitness.wvalues for profile in paretoFront])\n",
    "        pareto_array = -np.array([pareto_x, pareto_y, pareto_z]).T\n",
    "    \n",
    "        ax.scatter(pareto_array[:, 0], pareto_array[:, 1], pareto_array[:, 2])#, facecolors='k',\n",
    "#                    label='Pareto points')\n",
    "    \n",
    "        # Plot the Pareto surface triangulation\n",
    "        triang = mtri.Triangulation(pareto_array[:,0],pareto_array[:,1])\n",
    "        ax.plot_trisurf(triang,pareto_array[:,2],color='red', alpha=0.5)\n",
    "\n",
    "        # Find best (assumes that the weights are tuned to how important each parameter is)\n",
    "        iBest = np.argmin(pareto_array[:,0] + pareto_array[:, 1])\n",
    "        ax.plot([pareto_array[iBest, 0]], [pareto_array[iBest, 1]], [pareto_array[iBest, 2]], 'k*', markersize=12, label='Best')\n",
    "\n",
    "        # Formatting\n",
    "        ax.set_xlabel(axlabels[0])\n",
    "        ax.set_ylabel(axlabels[1])\n",
    "        ax.set_zlabel(axlabels[2])\n",
    "        ax.legend(loc='upper right')        \n",
    "    \n",
    "    else:\n",
    "        raise ValueError(\"Can't support plotting {}D Pareto front. Adjust weightings.\".format(len(nonzero_indices)))\n",
    "    \n",
    "        return None\n",
    "\n",
    "plotParetoFront(simulator.fitnesses, simulator.results)"
   ]
  },
  {
   "cell_type": "code",
   "execution_count": null,
   "metadata": {},
   "outputs": [],
   "source": [
    "# Visualise the Pareto Front result paths (This may not be all that useful)\n",
    "simulator.plotPaths3D()"
   ]
  },
  {
   "cell_type": "code",
   "execution_count": null,
   "metadata": {
    "scrolled": false
   },
   "outputs": [],
   "source": [
    "# Visualise the surface as a 3D surface contour:\n",
    "%autoreload\n",
    "from matplotlib import cm\n",
    "\n",
    "fig1, ax1 = simulator.plotObjectiveContours3D(\n",
    "    X, Y, scores.T, appendLabel=' Brute Force', cmap=cm.viridis, bestProfile=bestProfile_bf)"
   ]
  },
  {
   "cell_type": "code",
   "execution_count": null,
   "metadata": {},
   "outputs": [],
   "source": [
    "%autoreload\n",
    "import astra\n",
    "\n",
    "# fig3, ax3 = simulator.plotObjectiveContours(X, Y, scores.T,\n",
    "#     appendLabel=' Brute Force', bestProfile=bestProfile_bf)\n",
    "\n",
    "# To manually set the levels used in the plot, pass the levels as an additional arg:\n",
    "levels = np.linspace(0.0, 0.16, 9)\n",
    "print(levels)\n",
    "fig3, ax3 = simulator.plotObjectiveContours(X, Y, scores.T,\n",
    "    appendLabel=' Brute Force', bestProfile=bestProfile_bf, levels=levels)"
   ]
  },
  {
   "cell_type": "markdown",
   "metadata": {},
   "source": [
    "## Nelder Mead Simplex Algorithm\n",
    "\n",
    "Running the code here will update the contour plot above."
   ]
  },
  {
   "cell_type": "code",
   "execution_count": null,
   "metadata": {
    "collapsed": true
   },
   "outputs": [],
   "source": [
    "%autoreload\n",
    "import astra"
   ]
  },
  {
   "cell_type": "code",
   "execution_count": null,
   "metadata": {
    "scrolled": true
   },
   "outputs": [],
   "source": [
    "# Optimize with Scipy:\n",
    "\n",
    "res_scipy = simulator.optimizeTargetLandingSite(x0=[0.5*simulator.windowDuration, 1.0],\n",
    "                                                options={'xtol': 1e-6, \"disp\": True, 'maxiter':50})\n",
    "bestProfile_scipy = simulator.bestProfile\n",
    "results_scipy = simulator.results\n",
    "Xs_scipy = simulator.Xs"
   ]
  },
  {
   "cell_type": "code",
   "execution_count": null,
   "metadata": {
    "collapsed": true
   },
   "outputs": [],
   "source": [
    "# Optimize with scipy differential evolution\n",
    "simulator.Xs = Xs_scipy\n",
    "simulator.plotObjectiveLocations(fig3, ax3, marker='rx', bestMarker='r*', \n",
    "                                   bestProfile=bestProfile_scipy, appendLabel=' Nelder-Mead')"
   ]
  },
  {
   "cell_type": "code",
   "execution_count": null,
   "metadata": {
    "collapsed": true
   },
   "outputs": [],
   "source": [
    "print(res_scipy)"
   ]
  },
  {
   "cell_type": "markdown",
   "metadata": {},
   "source": [
    "## L-BFGS-B Algorithm"
   ]
  },
  {
   "cell_type": "markdown",
   "metadata": {},
   "source": [
    "Commenting out the code here for now, as the optimization doesn't work so well..."
   ]
  },
  {
   "cell_type": "code",
   "execution_count": null,
   "metadata": {
    "collapsed": true
   },
   "outputs": [],
   "source": [
    "# from astra.flight_tools import nozzleLiftFixedAscent\n",
    "\n",
    "# # Optimize with Scipy:\n",
    "# start_timedelta = 0\n",
    "# end_timedelta = simulator.windowDuration\n",
    "\n",
    "# nozzleLiftLowerBound = nozzleLiftFixedAscent(simulator.minAscentRate,\n",
    "#                 simulator._balloonWeight, simulator.payloadTrainWeight,\n",
    "#                 simulator.environment.inflationTemperature,\n",
    "#                 simulator.environment.getPressure(simulator.launchSiteLat,\n",
    "#                                                   simulator.launchSiteLon,\n",
    "#                                                   simulator.launchSiteElev,\n",
    "#                                                   simulator.start_dateTime),\n",
    "#                 simulator._gasMolecularMass, simulator.excessPressureCoeff,\n",
    "#                 CD=(0.225 + 0.425)/2.)\n",
    "# nozzleLiftUpperBound = nozzleLiftFixedAscent(simulator.maxAscentRate,\n",
    "#                 simulator._balloonWeight, simulator.payloadTrainWeight,\n",
    "#                 simulator.environment.inflationTemperature,\n",
    "#                 simulator.environment.getPressure(simulator.launchSiteLat,\n",
    "#                                                   simulator.launchSiteLon,\n",
    "#                                                   simulator.launchSiteElev,\n",
    "#                                                   simulator.start_dateTime),\n",
    "#                 simulator._gasMolecularMass, simulator.excessPressureCoeff,\n",
    "#                 CD=(0.225 + 0.425)/2.)\n",
    "\n",
    "# res_lbfgsb = simulator.optimizeTargetLandingSite(x0=[0.5*simulator.windowDuration, 1.0],\n",
    "#                                                  method='L-BFGS-B',\n",
    "#                                                  bounds=([start_timedelta, end_timedelta],\n",
    "#                                                          [nozzleLiftLowerBound, nozzleLiftUpperBound]),\n",
    "#                                                  options={\"disp\": True, \"maxfun\":200},\n",
    "#                                                  )\n",
    "# bestProfile_lbfgsb = simulator.bestProfile\n",
    "# results_lbfgsb = simulator.results\n",
    "# Xs_lbfgsb = simulator.Xs"
   ]
  },
  {
   "cell_type": "code",
   "execution_count": null,
   "metadata": {
    "collapsed": true
   },
   "outputs": [],
   "source": [
    "# # Optimize with scipy differential evolution\n",
    "# simulator.bestProfile = bestProfile_lbfgsb\n",
    "# simulator.results = results_lbfgsb\n",
    "# simulator.Xs = Xs_lbfgsb\n",
    "# simulator.plotObjectiveLocations(fig3, ax3, marker='cx', bestMarker='c*', appendLabel=' L-BFGS-B')"
   ]
  },
  {
   "cell_type": "code",
   "execution_count": null,
   "metadata": {
    "collapsed": true
   },
   "outputs": [],
   "source": [
    "# print(res_lbfgsb)"
   ]
  },
  {
   "cell_type": "markdown",
   "metadata": {},
   "source": [
    "## Scipy differential Evolution"
   ]
  },
  {
   "cell_type": "code",
   "execution_count": null,
   "metadata": {},
   "outputs": [],
   "source": [
    "%autoreload\n",
    "import astra\n",
    "\n",
    "res_de = simulator.optimizeTargetLandingSite(method='DE', tol=1, maxiter=6)\n",
    "results_de = simulator.results\n",
    "bestProfile_de = simulator.bestProfile\n",
    "Xs_de = simulator.Xs"
   ]
  },
  {
   "cell_type": "code",
   "execution_count": null,
   "metadata": {},
   "outputs": [],
   "source": [
    "res_de"
   ]
  },
  {
   "cell_type": "code",
   "execution_count": null,
   "metadata": {},
   "outputs": [],
   "source": [
    "simulator.results = results_de\n",
    "simulator.bestProfile = bestProfile_de\n",
    "simulator.Xs = Xs_de\n",
    "simulator.plotObjectiveLocations(fig3, ax3, marker='kx', bestMarker='k*', appendLabel=' DE')"
   ]
  },
  {
   "cell_type": "code",
   "execution_count": null,
   "metadata": {
    "collapsed": true
   },
   "outputs": [],
   "source": [
    "fig3.savefig('Distance2D_NozzleLift_LaunchTime.pdf')"
   ]
  },
  {
   "cell_type": "code",
   "execution_count": null,
   "metadata": {
    "collapsed": true
   },
   "outputs": [],
   "source": [
    "print(\"Brute Force: delta={} km, nevals={}\".format(bestProfile_bf.distanceFromTarget, Nx * Ny))\n",
    "print(\"Differential Evolution: delta={} km, nevals={}\".format(bestProfile_de.distanceFromTarget, res_de.nfev))\n",
    "print(\"Nelder Mead: delta={} km, nevals={}\".format(bestProfile_scipy.distanceFromTarget, res_scipy.nfev))"
   ]
  },
  {
   "cell_type": "markdown",
   "metadata": {},
   "source": [
    "## Higher Dimensional Problem"
   ]
  },
  {
   "cell_type": "markdown",
   "metadata": {},
   "source": [
    "### Slice with cutdown altitude"
   ]
  },
  {
   "cell_type": "code",
   "execution_count": null,
   "metadata": {},
   "outputs": [],
   "source": [
    "import copy\n",
    "%autoreload\n",
    "import astra\n",
    "\n",
    "# Number of x-y points to use\n",
    "Nx = 6\n",
    "Ny = 6\n",
    "\n",
    "# Could also use 'floatingAltitude' as the sliceParam\n",
    "bestProfile_slicing, X, Y, Z, distances = simulator.bruteForceSlice(Nx, Ny, sliceParam='cutdownAltitude',\n",
    "                                                            Nslices=3, sliceBounds=(10e3, 18e3))\n",
    "results_slicing = copy.deepcopy(simulator.results)\n",
    "\n"
   ]
  },
  {
   "cell_type": "code",
   "execution_count": null,
   "metadata": {
    "scrolled": false
   },
   "outputs": [],
   "source": [
    "for i, z in enumerate(Z):\n",
    "    scores_slice = distances[:, :, i]\n",
    "# #     levels = np.arange(0, 90, 10)\n",
    "    fig, ax = simulator.plotObjectiveContours(X, Y, scores_slice.T,\n",
    "        appendLabel=' Brute Force')\n",
    "    ax.set_title(r\"Cutdown Altitude: ${}m$\".format(z))\n",
    "#     fig.savefig('cutdownAltitude_{}_contour.pdf'.format(z))"
   ]
  },
  {
   "cell_type": "markdown",
   "metadata": {},
   "source": [
    "## Optimization in higher dimensions\n",
    "\n",
    "The input vector we will try to solve the following optimization problem\n",
    "\n",
    "\\begin{equation}\n",
    "\\mathrm{min}(f(\\textbf{x})) \\\\\n",
    "f(\\mathbf{x}) = \\mathrm{\\Delta}(\\textbf{x}) + p_0(\\textbf{x})\\\\\n",
    "p_0 = \\begin{cases} \n",
    "    5 \\times 10^6 & \\text{if not landed} \\\\\n",
    "    & 0 & \\text{otherwise}\n",
    "   \\end{cases}\\\\\n",
    "\\textbf{x} = [t, L_N, i_f, h_f, t_f, i_c, h_c, D_\\mathrm{burst}],\\\\\n",
    "t \\in [0, 72] \\mathrm{hours}\\\\\n",
    "L_N \\propto \\bar{\\frac{dz}{dt}}, \\hspace{1em} \\bar{\\frac{dz}{dt}} \\in [1.5, 6] \\mathrm{m/s}\\\\\n",
    "i_f \\in [0, 1] \\\\\n",
    "h_f \\in [h_{f0}, h_{f1}]\\\\\n",
    "t_f \\in [0, \\infty]\\\\\n",
    "i_c \\in [0, 1]\\\\\n",
    "h_c \\in [h_{c0}, h_{c1}]\\\\\n",
    "D_\\mathrm{burst} \\in [D_\\mathrm{burst0}, D_\\mathrm{burst1}]\n",
    "\\end{equation}\n",
    "\n",
    "where \\Delta is the ground distance from the landing site obtained for a particular input vector $\\bf{x}$, subscripts $f$ and $c$ denote floating and cutdown flight, $i_f, i_c$ are real variables bounded $\\in [0, 1]$ that correspond to binary *on/off* behaviour, $h$ denotes altitude, $D_{burst}$ is the nominal burst diameter (continuous) varying between the bounds of a subset of chosen 'available' balloons, and $t_f$ is the duration  force the balloon to drop after a floating flight . Currently $h_{f0}, h_{f1}, h_{c0}, h_{c1}$ are user inputs for 'sensible' values of floating or cutdown flight altitude for a given mission, taking into account the nominal balloon burst altitude, local regulations and air traffic; however, this may be eligible for calculation in future.\n",
    "\n",
    "Differential evolution was the most robust in the previous example, independant of the initial (conversely to Nelder-Mead), so we'll use it here.\n",
    "\n",
    "**Notes**\n",
    "* `cutdown` does not have to be activated ($i_c = 1$) for floating flight to begin decent after flight duration $t_c$."
   ]
  },
  {
   "cell_type": "code",
   "execution_count": null,
   "metadata": {
    "scrolled": true
   },
   "outputs": [],
   "source": [
    "%autoreload\n",
    "import astra\n",
    "\n",
    "res_de_HD = simulator.optimizeTargetLandingSite(method='DE', useCutdown=True, useFloating=True,\n",
    "                                             cutdownAltitudeBounds=(8e3, 16e3), floatingAltitudeBounds=(8e3, 16e3),\n",
    "                                             flexibleBalloon=True,\n",
    "                                             balloonModels=['TA100', 'TA200', 'HW200', 'HW800'],\n",
    "                                             tol=1, maxiter=5, seed=62)\n",
    "results_de_HD = simulator.results\n",
    "bestProfile_de_HD = results_de_HD[0]\n",
    "Xs_de_HD = simulator.Xs"
   ]
  },
  {
   "cell_type": "code",
   "execution_count": null,
   "metadata": {},
   "outputs": [],
   "source": [
    "plotParetoFront(simulator.fitnesses, simulator.results)"
   ]
  },
  {
   "cell_type": "code",
   "execution_count": null,
   "metadata": {},
   "outputs": [],
   "source": [
    "print(len(simulator.results))"
   ]
  },
  {
   "cell_type": "code",
   "execution_count": null,
   "metadata": {},
   "outputs": [],
   "source": [
    "res_de_HD"
   ]
  },
  {
   "cell_type": "code",
   "execution_count": null,
   "metadata": {},
   "outputs": [],
   "source": [
    "simulator.plotPaths3D()"
   ]
  },
  {
   "cell_type": "markdown",
   "metadata": {
    "collapsed": true
   },
   "source": [
    "## Testing"
   ]
  },
  {
   "cell_type": "markdown",
   "metadata": {},
   "source": [
    "Random elements of code to go here...."
   ]
  },
  {
   "cell_type": "code",
   "execution_count": null,
   "metadata": {
    "collapsed": true
   },
   "outputs": [],
   "source": [
    "# This url appears to have problems in some circumstances - is it a cycle not available error, or something else?\n",
    "url = \"http://nomads.ncep.noaa.gov:9090/dods/gfs_0p50/gfs20170619/gfs_0p50_06z.ascii?hgtprs[10:35][0:46][263:301][0:719]\"\n",
    "\n",
    "from six.moves.urllib.request import urlopen\n",
    "\n",
    "for i in range(20):\n",
    "    HTTPresponse = urlopen(url)\n",
    "    response = HTTPresponse.read().decode('utf-8')\n",
    "    if response[0] == \"<\":\n",
    "        print(response)"
   ]
  },
  {
   "cell_type": "code",
   "execution_count": null,
   "metadata": {},
   "outputs": [],
   "source": [
    "import datetime\n",
    "td = datetime.timedelta(seconds=666)\n",
    "td.seconds"
   ]
  },
  {
   "cell_type": "code",
   "execution_count": null,
   "metadata": {
    "collapsed": true
   },
   "outputs": [],
   "source": [
    "balloonModels = 'TA100', 'HW1000', 'TA2000'\n",
    "balloonsSelected = {k: balloons[k] for k in balloonModels}\n",
    "balloonsSelected"
   ]
  },
  {
   "cell_type": "code",
   "execution_count": null,
   "metadata": {
    "collapsed": true
   },
   "outputs": [],
   "source": [
    "max(balloonsSelected, key=lambda k: balloonsSelected.get(k)[1])"
   ]
  }
 ],
 "metadata": {
  "kernelspec": {
   "display_name": "Python 3",
   "language": "python",
   "name": "python3"
  },
  "language_info": {
   "codemirror_mode": {
    "name": "ipython",
    "version": 3
   },
   "file_extension": ".py",
   "mimetype": "text/x-python",
   "name": "python",
   "nbconvert_exporter": "python",
   "pygments_lexer": "ipython3",
   "version": "3.6.1"
  }
 },
 "nbformat": 4,
 "nbformat_minor": 2
}
