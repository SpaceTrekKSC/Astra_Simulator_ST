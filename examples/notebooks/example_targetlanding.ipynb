{
 "cells": [
  {
   "cell_type": "markdown",
   "metadata": {},
   "source": [
    "# Astra target landing site example"
   ]
  },
  {
   "cell_type": "code",
   "execution_count": null,
   "metadata": {},
   "outputs": [],
   "source": [
    "%load_ext autoreload\n",
    "%autoreload\n",
    "import astra\n",
    "from astra.target_landing import targetFlight\n",
    "from datetime import datetime, timedelta\n",
    "import matplotlib.pyplot as plt\n",
    "from mpl_toolkits.mplot3d import Axes3D\n",
    "import numpy as np\n",
    "from scipy.interpolate import interp1d\n",
    "from astra.weather import forecastEnvironment\n",
    "from astra.GFS import GFS_Handler\n",
    "import astra\n",
    "import os\n",
    "%matplotlib notebook\n",
    "\n"
   ]
  },
  {
   "cell_type": "code",
   "execution_count": null,
   "metadata": {},
   "outputs": [],
   "source": [
    "targetLat = 28.33\n",
    "targetLon = -79.8\n",
    "targetElev = 0.\n",
    "\n",
    "# Use a previous forecast (allows offline development)\n",
    "launch_datetime = datetime(2017, 4, 24,hour=12,minute=15)\n",
    "simEnvironment = forecastEnvironment(launchSiteLat=29.2108,      # deg\n",
    "                                     launchSiteLon=-81.0228,     # deg\n",
    "                                     launchSiteElev=4,           # m\n",
    "                                     dateAndTime=launch_datetime,\n",
    "                                     forceNonHD=True,\n",
    "                                     debugging=True)\n",
    "# # Set up the example input data files (from 24/04/2017, Daytona Beach)\n",
    "# fileDict = {}\n",
    "# for paramName in GFS_Handler.weatherParameters.keys():\n",
    "#     fileDict[paramName] = os.path.join(os.path.dirname(astra.__file__),\n",
    "#         '../test/example_data',\n",
    "#         'gfs_0p50_06z.ascii?{}[12:15][0:46][231:245][545:571]'.format(paramName))\n",
    "# simEnvironment.loadFromNOAAFiles(fileDict)\n",
    "# inputs = {'launchSiteForecasts': [simEnvironment]}\n",
    "\n",
    "simulator = targetFlight(start_dateTime=launch_datetime,\n",
    "                 targetLat=targetLat,\n",
    "                 targetLon=targetLon,\n",
    "                 targetElev=targetElev,\n",
    "                 launchSites=[(29.2108, -81.0228, 4.)],\n",
    "                 balloonModel='TA100',\n",
    "                 balloonGasType=\"Helium\",\n",
    "                 nozzleLift=1,\n",
    "                 trainEquivSphereDiam=0.1,\n",
    "                 inflationTemperature=0.0,\n",
    "                 payloadTrainWeight=0.38,\n",
    "                 windowDuration=24,\n",
    "                 HD=False,\n",
    "                 maxFlightTime=18000,\n",
    "                 parachuteModel=None,\n",
    "                 debugging=False,\n",
    "                 log_to_file=False,\n",
    "                 progress_to_file=False,\n",
    "                 outputFile=os.path.join(''))\n",
    "\n",
    "bestProfile = simulator.bruteForce()"
   ]
  },
  {
   "cell_type": "code",
   "execution_count": null,
   "metadata": {},
   "outputs": [],
   "source": [
    "fig1, ax1 = simulator.plotPaths3D()\n",
    "\n",
    "fig2, ax2 = simulator.plotLandingSites()\n",
    "\n",
    "# add the point obtained by scipy:\n",
    "# best = simulator.optimizeTargetLandingSite(method='Nelder-Mead', x0=0.5)\n",
    "\n"
   ]
  },
  {
   "cell_type": "code",
   "execution_count": null,
   "metadata": {},
   "outputs": [],
   "source": [
    "fig = plt.figure()\n",
    "ax = fig.add_subplot(111)\n",
    "\n",
    "\n",
    "plt.axis('equal')\n",
    "dateTimes = []\n",
    "distances = []\n",
    "for prof in simulator.results:\n",
    "    dateTime = prof.launchDateTime\n",
    "    dateTimes.append(dateTime)\n",
    "    distance = prof.distanceFromTarget\n",
    "    distances.append(distance)\n",
    "\n",
    "ax.plot(dateTimes, distances, 'bx', label='Trajectory simulations')\n",
    "ax.plot(simulator.bestProfile.launchDateTime, simulator.bestProfile.distanceFromTarget, 'k*', label='Brute Force min')\n",
    "\n",
    "import matplotlib.dates as mdates\n",
    "\n",
    "xtick_locator = mdates.AutoDateLocator()\n",
    "xtick_formatter = mdates.AutoDateFormatter(xtick_locator)\n",
    "ax.xaxis.set_major_locator(xtick_locator)\n",
    "ax.xaxis.set_major_formatter(xtick_formatter)\n",
    "fig.autofmt_xdate()\n",
    "\n",
    "ax.set_xlabel('Date and Time')\n",
    "ax.set_ylabel(r'$|\\bf{X} - \\bf{X_{target}}|$ (deg)')"
   ]
  },
  {
   "cell_type": "code",
   "execution_count": null,
   "metadata": {
    "collapsed": true
   },
   "outputs": [],
   "source": [
    "# test the scipy algorithms:\n",
    "\n",
    "datetimeVector =  np.linspace(0, simulator.windowDuration, len(distances_map.keys())) \n",
    "distanceVector = list(distances_map.values())\n",
    "\n",
    "f_curve = interp1d(datetimeVector, distanceVector, kind='cubic')\n",
    "\n",
    "new_timedelta_vector = np.linspace(0, simulator.windowDuration, 100)\n",
    "newdistances = f_curve(new_timedelta_vector)\n",
    "new_datetime_vector = [simulator.start_dateTime + timedelta(hours=h) for h in new_timedelta_vector]\n",
    "\n",
    "ax.plot(new_datetime_vector, newdistances, label='Fit (cubic)')"
   ]
  },
  {
   "cell_type": "code",
   "execution_count": null,
   "metadata": {
    "collapsed": true
   },
   "outputs": [],
   "source": [
    "import scipy.optimize\n",
    "\n",
    "res = scipy.optimize.minimize(f_curve, x0=[0.3*simulator.windowDuration], method='BFGS',\n",
    "#                               bounds=[(0.1, simulator.windowDuration-0.1)],\n",
    "                             options={\"disp\": True})\n",
    "best_time_model = simulator.start_dateTime + timedelta(hours=res.x[0])\n",
    "# res.fun\n",
    "ax.plot(best_time_model, res.fun, '^r', label=r'Nelder-Mead, $x_0=0.3 \\times dt$')\n",
    "\n",
    "res = scipy.optimize.minimize(f_curve, x0=[0.7*simulator.windowDuration], method='BFGS',\n",
    "#                               bounds=[(0.1, simulator.windowDuration-0.1)],\n",
    "                             options={\"disp\": True})\n",
    "best_time_model = simulator.start_dateTime + timedelta(hours=res.x[0])\n",
    "# res.fun\n",
    "ax.plot(best_time_model, res.fun, 'or', label=r'Nelder-Mead, $x_0=0.7 \\times dt$')"
   ]
  },
  {
   "cell_type": "code",
   "execution_count": null,
   "metadata": {
    "collapsed": true
   },
   "outputs": [],
   "source": [
    "help(scipy.optimize.minimize)"
   ]
  },
  {
   "cell_type": "code",
   "execution_count": null,
   "metadata": {
    "collapsed": true
   },
   "outputs": [],
   "source": [
    "import scipy.optimize\n",
    "\n",
    "res = scipy.optimize.differential_evolution(f_curve,\n",
    "                              bounds=[(0.1, simulator.windowDuration-0.1)],\n",
    "                              polish=False)\n",
    "best_time_de = simulator.start_dateTime + timedelta(hours=res.x[0])\n",
    "# res.fun\n",
    "ax.plot(best_time_de, res.fun, '^g', label='DE')\n",
    "print(res.nit)\n",
    "lgd = ax.legend(loc='upper left')\n",
    "ax.set_facecolor(\"white\")\n",
    "plt.tight_layout()\n",
    "fig.savefig('brute_force_comparison.png', bbox_extra_artists=(lgd,), bbox_inches='tight')\n"
   ]
  },
  {
   "cell_type": "markdown",
   "metadata": {
    "collapsed": true
   },
   "source": [
    "## Testing"
   ]
  },
  {
   "cell_type": "code",
   "execution_count": null,
   "metadata": {
    "collapsed": true
   },
   "outputs": [],
   "source": [
    " datetimeVector = [self.start_dateTime + timedelta(hours=t)\n",
    "                            for t in range(self.windowDuration)]\n",
    "\n",
    "nozzleLiftLowerBound = 0.4\n",
    "nozzleLiftUpperBound = 1.0\n",
    "nozzelLift_Vector = np.linspace(nozzleLiftLowerBound, nozzleLiftUpperBound)\n",
    "self.results = {}\n",
    "\n",
    "distance_map = {}\n",
    "for i, launchSiteForecast in enumerate(self.launchSiteForecasts):\n",
    "    self.environment = launchSiteForecast\n",
    "\n",
    "    for j, t in enumerate(datetimeVector):\n",
    "        distance_lift_vec = np.zeros(np.length(nozzelLift_Vector))\n",
    "        for k, L in enumerate(nozzelLift_Vector):\n",
    "            # brute force approach\n",
    "            distance = self.targetDistance(t)\n",
    "            distance_lift_vec[k] = distance\n",
    "\n",
    "        distance_map[t] = distance_Vector  "
   ]
  },
  {
   "cell_type": "code",
   "execution_count": null,
   "metadata": {
    "collapsed": true
   },
   "outputs": [],
   "source": [
    "# ascent rate penalty function\n"
   ]
  }
 ],
 "metadata": {
  "kernelspec": {
   "display_name": "Python [conda env:flask]",
   "language": "python",
   "name": "conda-env-flask-py"
  },
  "language_info": {
   "codemirror_mode": {
    "name": "ipython",
    "version": 3
   },
   "file_extension": ".py",
   "mimetype": "text/x-python",
   "name": "python",
   "nbconvert_exporter": "python",
   "pygments_lexer": "ipython3",
   "version": "3.6.1"
  }
 },
 "nbformat": 4,
 "nbformat_minor": 2
}
