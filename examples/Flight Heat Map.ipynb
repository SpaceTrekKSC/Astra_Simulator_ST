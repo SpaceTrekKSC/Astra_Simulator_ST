{
 "cells": [
  {
   "cell_type": "code",
   "execution_count": 1,
   "id": "5ed3d9cf-3dde-4a71-a69c-2c841ca6ca61",
   "metadata": {},
   "outputs": [
    {
     "name": "stdout",
     "output_type": "stream",
     "text": [
      "Collecting folium\n",
      "  Downloading folium-0.20.0-py2.py3-none-any.whl.metadata (4.2 kB)\n",
      "Collecting branca>=0.6.0 (from folium)\n",
      "  Using cached branca-0.8.1-py3-none-any.whl.metadata (1.5 kB)\n",
      "Requirement already satisfied: jinja2>=2.9 in c:\\users\\instructor\\anaconda3\\lib\\site-packages (from folium) (3.1.6)\n",
      "Requirement already satisfied: numpy in c:\\users\\instructor\\anaconda3\\lib\\site-packages (from folium) (2.1.3)\n",
      "Requirement already satisfied: requests in c:\\users\\instructor\\anaconda3\\lib\\site-packages (from folium) (2.32.3)\n",
      "Requirement already satisfied: xyzservices in c:\\users\\instructor\\anaconda3\\lib\\site-packages (from folium) (2022.9.0)\n",
      "Requirement already satisfied: MarkupSafe>=2.0 in c:\\users\\instructor\\anaconda3\\lib\\site-packages (from jinja2>=2.9->folium) (3.0.2)\n",
      "Requirement already satisfied: charset-normalizer<4,>=2 in c:\\users\\instructor\\anaconda3\\lib\\site-packages (from requests->folium) (3.3.2)\n",
      "Requirement already satisfied: idna<4,>=2.5 in c:\\users\\instructor\\anaconda3\\lib\\site-packages (from requests->folium) (3.7)\n",
      "Requirement already satisfied: urllib3<3,>=1.21.1 in c:\\users\\instructor\\anaconda3\\lib\\site-packages (from requests->folium) (2.3.0)\n",
      "Requirement already satisfied: certifi>=2017.4.17 in c:\\users\\instructor\\anaconda3\\lib\\site-packages (from requests->folium) (2025.7.14)\n",
      "Downloading folium-0.20.0-py2.py3-none-any.whl (113 kB)\n",
      "Using cached branca-0.8.1-py3-none-any.whl (26 kB)\n",
      "Installing collected packages: branca, folium\n",
      "\n",
      "   ---------------------------------------- 2/2 [folium]\n",
      "\n",
      "Successfully installed branca-0.8.1 folium-0.20.0\n"
     ]
    }
   ],
   "source": [
    "!pip install folium"
   ]
  },
  {
   "cell_type": "code",
   "execution_count": 2,
   "id": "7579851e-4d22-4f7a-9d33-bbc9157755c5",
   "metadata": {},
   "outputs": [
    {
     "name": "stdout",
     "output_type": "stream",
     "text": [
      "Requirement already satisfied: matplotlib in c:\\users\\julia\\anaconda3\\envs\\astra\\lib\\site-packages (3.10.0)\n",
      "Requirement already satisfied: scipy in c:\\users\\julia\\anaconda3\\envs\\astra\\lib\\site-packages (1.15.3)\n",
      "Requirement already satisfied: Pillow in c:\\users\\julia\\anaconda3\\envs\\astra\\lib\\site-packages (11.1.0)\n",
      "Requirement already satisfied: simplekml in c:\\users\\julia\\anaconda3\\envs\\astra\\lib\\site-packages (1.3.6)\n",
      "Requirement already satisfied: contourpy>=1.0.1 in c:\\users\\julia\\anaconda3\\envs\\astra\\lib\\site-packages (from matplotlib) (1.3.1)\n",
      "Requirement already satisfied: cycler>=0.10 in c:\\users\\julia\\anaconda3\\envs\\astra\\lib\\site-packages (from matplotlib) (0.11.0)\n",
      "Requirement already satisfied: fonttools>=4.22.0 in c:\\users\\julia\\anaconda3\\envs\\astra\\lib\\site-packages (from matplotlib) (4.55.3)\n",
      "Requirement already satisfied: kiwisolver>=1.3.1 in c:\\users\\julia\\anaconda3\\envs\\astra\\lib\\site-packages (from matplotlib) (1.4.8)\n",
      "Requirement already satisfied: numpy>=1.23 in c:\\users\\julia\\anaconda3\\envs\\astra\\lib\\site-packages (from matplotlib) (2.0.1)\n",
      "Requirement already satisfied: packaging>=20.0 in c:\\users\\julia\\anaconda3\\envs\\astra\\lib\\site-packages (from matplotlib) (24.2)\n",
      "Requirement already satisfied: pyparsing>=2.3.1 in c:\\users\\julia\\anaconda3\\envs\\astra\\lib\\site-packages (from matplotlib) (3.2.0)\n",
      "Requirement already satisfied: python-dateutil>=2.7 in c:\\users\\julia\\anaconda3\\envs\\astra\\lib\\site-packages (from matplotlib) (2.9.0.post0)\n",
      "Requirement already satisfied: six>=1.5 in c:\\users\\julia\\anaconda3\\envs\\astra\\lib\\site-packages (from python-dateutil>=2.7->matplotlib) (1.17.0)\n",
      "Preparing weather environment...\n",
      "Weather environment ready.\n",
      "Running 10 simulations...\n",
      "Downloading weather forecast: 0%"
     ]
    },
    {
     "name": "stderr",
     "output_type": "stream",
     "text": [
      "DEBUG:urllib3.connectionpool:Starting new HTTPS connection (1): nomads.ncep.noaa.gov:443\n",
      "DEBUG:urllib3.connectionpool:Starting new HTTPS connection (1): nomads.ncep.noaa.gov:443\n",
      "DEBUG:urllib3.connectionpool:Starting new HTTPS connection (1): nomads.ncep.noaa.gov:443\n",
      "DEBUG:urllib3.connectionpool:Starting new HTTPS connection (1): nomads.ncep.noaa.gov:443\n",
      "DEBUG:urllib3.connectionpool:Starting new HTTPS connection (1): nomads.ncep.noaa.gov:443\n",
      "DEBUG:urllib3.connectionpool:Starting new HTTPS connection (1): nomads.ncep.noaa.gov:443\n",
      "DEBUG:urllib3.connectionpool:Starting new HTTPS connection (1): nomads.ncep.noaa.gov:443\n",
      "DEBUG:urllib3.connectionpool:Starting new HTTPS connection (1): nomads.ncep.noaa.gov:443\n",
      "DEBUG:urllib3.connectionpool:https://nomads.ncep.noaa.gov:443 \"GET /dods/gfs_0p25/gfs20250723/gfs_0p25_12z.ascii?hgtprs%5B0:3%5D%5B0:25%5D%5B552:576%5D%5B1408:1439%5D HTTP/1.1\" 200 None\n"
     ]
    },
    {
     "name": "stdout",
     "output_type": "stream",
     "text": [
      "Downloading weather forecast: 12%"
     ]
    },
    {
     "name": "stderr",
     "output_type": "stream",
     "text": [
      "DEBUG:urllib3.connectionpool:https://nomads.ncep.noaa.gov:443 \"GET /dods/gfs_0p25/gfs20250723/gfs_0p25_12z.ascii?hgtprs%5B0:3%5D%5B0:25%5D%5B552:576%5D%5B0:16%5D HTTP/1.1\" 200 None\n"
     ]
    },
    {
     "name": "stdout",
     "output_type": "stream",
     "text": [
      "Downloading weather forecast: 25%"
     ]
    },
    {
     "name": "stderr",
     "output_type": "stream",
     "text": [
      "DEBUG:urllib3.connectionpool:https://nomads.ncep.noaa.gov:443 \"GET /dods/gfs_0p25/gfs20250723/gfs_0p25_12z.ascii?tmpprs%5B0:3%5D%5B0:25%5D%5B552:576%5D%5B0:16%5D HTTP/1.1\" 200 None\n"
     ]
    },
    {
     "name": "stdout",
     "output_type": "stream",
     "text": [
      "Downloading weather forecast: 37%"
     ]
    },
    {
     "name": "stderr",
     "output_type": "stream",
     "text": [
      "DEBUG:urllib3.connectionpool:https://nomads.ncep.noaa.gov:443 \"GET /dods/gfs_0p25/gfs20250723/gfs_0p25_12z.ascii?tmpprs%5B0:3%5D%5B0:25%5D%5B552:576%5D%5B1408:1439%5D HTTP/1.1\" 200 None\n"
     ]
    },
    {
     "name": "stdout",
     "output_type": "stream",
     "text": [
      "Downloading weather forecast: 50%"
     ]
    },
    {
     "name": "stderr",
     "output_type": "stream",
     "text": [
      "DEBUG:urllib3.connectionpool:https://nomads.ncep.noaa.gov:443 \"GET /dods/gfs_0p25/gfs20250723/gfs_0p25_12z.ascii?vgrdprs%5B0:3%5D%5B0:25%5D%5B552:576%5D%5B1408:1439%5D HTTP/1.1\" 200 None\n"
     ]
    },
    {
     "name": "stdout",
     "output_type": "stream",
     "text": [
      "Downloading weather forecast: 62%"
     ]
    },
    {
     "name": "stderr",
     "output_type": "stream",
     "text": [
      "DEBUG:urllib3.connectionpool:https://nomads.ncep.noaa.gov:443 \"GET /dods/gfs_0p25/gfs20250723/gfs_0p25_12z.ascii?ugrdprs%5B0:3%5D%5B0:25%5D%5B552:576%5D%5B1408:1439%5D HTTP/1.1\" 200 None\n"
     ]
    },
    {
     "name": "stdout",
     "output_type": "stream",
     "text": [
      "Downloading weather forecast: 75%"
     ]
    },
    {
     "name": "stderr",
     "output_type": "stream",
     "text": [
      "DEBUG:urllib3.connectionpool:https://nomads.ncep.noaa.gov:443 \"GET /dods/gfs_0p25/gfs20250723/gfs_0p25_12z.ascii?ugrdprs%5B0:3%5D%5B0:25%5D%5B552:576%5D%5B0:16%5D HTTP/1.1\" 200 None\n"
     ]
    },
    {
     "name": "stdout",
     "output_type": "stream",
     "text": [
      "Downloading weather forecast: 87%"
     ]
    },
    {
     "name": "stderr",
     "output_type": "stream",
     "text": [
      "DEBUG:urllib3.connectionpool:https://nomads.ncep.noaa.gov:443 \"GET /dods/gfs_0p25/gfs20250723/gfs_0p25_12z.ascii?vgrdprs%5B0:3%5D%5B0:25%5D%5B552:576%5D%5B0:16%5D HTTP/1.1\" 200 None\n"
     ]
    },
    {
     "name": "stdout",
     "output_type": "stream",
     "text": [
      "Downloading weather forecast. 100%\n",
      "Weather downloaded.\n"
     ]
    },
    {
     "name": "stderr",
     "output_type": "stream",
     "text": [
      "DEBUG:urllib3.connectionpool:Starting new HTTPS connection (1): nomads.ncep.noaa.gov:443\n",
      "DEBUG:urllib3.connectionpool:Starting new HTTPS connection (1): nomads.ncep.noaa.gov:443\n",
      "DEBUG:urllib3.connectionpool:Starting new HTTPS connection (1): nomads.ncep.noaa.gov:443\n",
      "DEBUG:urllib3.connectionpool:Starting new HTTPS connection (1): nomads.ncep.noaa.gov:443\n",
      "DEBUG:urllib3.connectionpool:Starting new HTTPS connection (1): nomads.ncep.noaa.gov:443\n",
      "DEBUG:urllib3.connectionpool:Starting new HTTPS connection (1): nomads.ncep.noaa.gov:443\n",
      "DEBUG:urllib3.connectionpool:Starting new HTTPS connection (1): nomads.ncep.noaa.gov:443\n",
      "DEBUG:urllib3.connectionpool:Starting new HTTPS connection (1): nomads.ncep.noaa.gov:443\n",
      "DEBUG:urllib3.connectionpool:https://nomads.ncep.noaa.gov:443 \"GET /dods/gfs_0p50/gfs20250723/gfs_0p50_12z.ascii?tmpprs%5B0:3%5D%5B41:46%5D%5B276:288%5D%5B704:719%5D HTTP/1.1\" 200 13221\n",
      "DEBUG:urllib3.connectionpool:https://nomads.ncep.noaa.gov:443 \"GET /dods/gfs_0p50/gfs20250723/gfs_0p50_12z.ascii?vgrdprs%5B0:3%5D%5B41:46%5D%5B276:288%5D%5B704:719%5D HTTP/1.1\" 200 12323\n",
      "DEBUG:urllib3.connectionpool:https://nomads.ncep.noaa.gov:443 \"GET /dods/gfs_0p50/gfs20250723/gfs_0p50_12z.ascii?hgtprs%5B0:3%5D%5B41:46%5D%5B276:288%5D%5B0:8%5D HTTP/1.1\" 200 10161\n",
      "DEBUG:urllib3.connectionpool:https://nomads.ncep.noaa.gov:443 \"GET /dods/gfs_0p50/gfs20250723/gfs_0p50_12z.ascii?hgtprs%5B0:3%5D%5B41:46%5D%5B276:288%5D%5B704:719%5D HTTP/1.1\" 200 16001\n",
      "DEBUG:urllib3.connectionpool:https://nomads.ncep.noaa.gov:443 \"GET /dods/gfs_0p50/gfs20250723/gfs_0p50_12z.ascii?vgrdprs%5B0:3%5D%5B41:46%5D%5B276:288%5D%5B0:8%5D HTTP/1.1\" 200 7909\n",
      "DEBUG:urllib3.connectionpool:https://nomads.ncep.noaa.gov:443 \"GET /dods/gfs_0p50/gfs20250723/gfs_0p50_12z.ascii?ugrdprs%5B0:3%5D%5B41:46%5D%5B276:288%5D%5B704:719%5D HTTP/1.1\" 200 12481\n",
      "DEBUG:urllib3.connectionpool:https://nomads.ncep.noaa.gov:443 \"GET /dods/gfs_0p50/gfs20250723/gfs_0p50_12z.ascii?ugrdprs%5B0:3%5D%5B41:46%5D%5B276:288%5D%5B0:8%5D HTTP/1.1\" 200 7632\n",
      "DEBUG:urllib3.connectionpool:https://nomads.ncep.noaa.gov:443 \"GET /dods/gfs_0p50/gfs20250723/gfs_0p50_12z.ascii?tmpprs%5B0:3%5D%5B41:46%5D%5B276:288%5D%5B0:8%5D HTTP/1.1\" 200 8186\n"
     ]
    },
    {
     "name": "stdout",
     "output_type": "stream",
     "text": [
      "Run 10/10"
     ]
    },
    {
     "name": "stderr",
     "output_type": "stream",
     "text": [
      "DEBUG:PIL.PngImagePlugin:STREAM b'IHDR' 16 13\n",
      "DEBUG:PIL.PngImagePlugin:STREAM b'tEXt' 41 58\n",
      "DEBUG:PIL.PngImagePlugin:STREAM b'pHYs' 111 9\n",
      "DEBUG:PIL.PngImagePlugin:STREAM b'IDAT' 132 8591\n"
     ]
    },
    {
     "name": "stdout",
     "output_type": "stream",
     "text": [
      "\n",
      "All simulations complete.\n",
      "Generating high-resolution heatmap image...\n",
      "Creating KML and packaging into KMZ...\n",
      "\n",
      "Success! Open flight_trajectories.kmz in Google Earth to see the final visualization.\n"
     ]
    }
   ],
   "source": [
    "# Step 1: Install required libraries if you haven't already\n",
    "!pip install matplotlib scipy Pillow simplekml\n",
    "\n",
    "# Step 2: Import all necessary modules\n",
    "import logging\n",
    "import numpy as np\n",
    "import simplekml\n",
    "from datetime import datetime\n",
    "from scipy.stats import gaussian_kde\n",
    "import matplotlib.pyplot as plt\n",
    "import os\n",
    "import zipfile\n",
    "from PIL import Image\n",
    "\n",
    "# Imports from astra-simulator\n",
    "from astra.simulator import flight\n",
    "from astra.weather import forecastEnvironment\n",
    "\n",
    "logging.basicConfig(level=logging.INFO)\n",
    "\n",
    "def run_trajectory_heatmap_simulation(num_runs=10):\n",
    "    \"\"\"\n",
    "    Runs multiple flight simulations and generates a KMZ file with a heatmap,\n",
    "    labeled landing points, and labeled flight trajectories.\n",
    "    \"\"\"\n",
    "    # --- Simulation Parameters ---\n",
    "    launch_datetime = datetime(2025, 7, 23, 12, 0)\n",
    "    launchLat, launchLon, launchElev = (50.903824, -1.63697, 114.0) # launch site\n",
    "\n",
    "    print(\"Preparing weather environment...\")\n",
    "    env = forecastEnvironment(launchLat, launchLon, launchElev, launch_datetime) #telling it what components we care about\n",
    "    print(\"Weather environment ready.\")\n",
    "\n",
    "    all_profiles = []\n",
    "    print(f\"Running {num_runs} simulations...\")\n",
    "\n",
    "    for i in range(num_runs):\n",
    "        randomized_nozzle_lift = 1.0 + (np.random.rand() - 0.5) * 0.4\n",
    "        print(f\"\\rRun {i + 1}/{num_runs}\", end=\"\")\n",
    "\n",
    "        sim = flight(\n",
    "            environment=env,\n",
    "            balloonGasType='Helium',\n",
    "            balloonModel='TA100',\n",
    "            nozzleLift=randomized_nozzle_lift, # just tried to make the heat map w different nozzle lifts, we can have other things as the variable instead if needed\n",
    "            payloadTrainWeight=0.38,\n",
    "            parachuteModel='SPH36', # need to figure out how we can write this to be our own\n",
    "            trainEquivSphereDiam=0.1,\n",
    "            maxFlightTime=18000,\n",
    "            numberOfSimRuns=1 #note this is PER run\n",
    "        )\n",
    "        sim._preflight(env.dateAndTime)\n",
    "        result, _ = sim.fly(flightNumber=0, launchDateTime=env.dateAndTime, runPreflight=False)\n",
    "\n",
    "        if result:\n",
    "            all_profiles.append(result)\n",
    "\n",
    "    print(\"\\nAll simulations complete.\")\n",
    "\n",
    "    if not all_profiles:\n",
    "        print(\"No simulation data was collected. Cannot generate KML.\")\n",
    "        return\n",
    "\n",
    "    # --- Heatmap Generation ---\n",
    "    landing_points = [(p.longitudeProfile[-1], p.latitudeProfile[-1]) for p in all_profiles]\n",
    "    print(\"Generating high-resolution heatmap image...\")\n",
    "    lons, lats = zip(*landing_points)\n",
    "    margin = 0.05\n",
    "    north, south = max(lats) + margin, min(lats) - margin\n",
    "    east, west = max(lons) + margin, min(lons) - margin\n",
    "\n",
    "    try:\n",
    "        kde = gaussian_kde([lons, lats])\n",
    "        resolution = 400\n",
    "        grid_lon, grid_lat = np.mgrid[west:east:complex(0, resolution), south:north:complex(0, resolution)]\n",
    "        heatmap_values = kde.evaluate([grid_lon.ravel(), grid_lat.ravel()])\n",
    "    except np.linalg.LinAlgError:\n",
    "        print(\"\\nWarning: Could not generate a precise heatmap. Creating an empty overlay.\")\n",
    "        resolution = 400\n",
    "        heatmap_values = np.zeros((resolution, resolution))\n",
    "\n",
    "    heatmap_img = heatmap_values.reshape((resolution, resolution))\n",
    "    fig = plt.figure(figsize=(4, 4), dpi=100)\n",
    "    ax = fig.add_axes([0, 0, 1, 1])\n",
    "    ax.axis('off')\n",
    "    ax.imshow(np.rot90(heatmap_img), cmap=plt.cm.hot_r, alpha=0.5)\n",
    "    temp_heatmap_filename = \"temp_heatmap.png\"\n",
    "    fig.savefig(temp_heatmap_filename, transparent=True, pad_inches=0)\n",
    "    plt.close(fig)\n",
    "    img = Image.open(temp_heatmap_filename).convert(\"RGBA\")\n",
    "    datas = img.getdata()\n",
    "    newData = []\n",
    "    for item in datas:\n",
    "        if item[0] > 240 and item[1] > 240 and item[2] > 240:\n",
    "            newData.append((255, 255, 255, 0))\n",
    "        else:\n",
    "            newData.append(item)\n",
    "    img.putdata(newData)\n",
    "    heatmap_filename = \"landing_heatmap_final.png\"\n",
    "    img.save(heatmap_filename, \"PNG\")\n",
    "    os.remove(temp_heatmap_filename)\n",
    "\n",
    "    # --- KML and KMZ Creation ---\n",
    "    print(\"Creating KML and packaging into KMZ...\")\n",
    "    kml = simplekml.Kml()\n",
    "    kml.document.name = \"Flight Trajectories and Landing Zone\"\n",
    "\n",
    "    # 1. Add the Heatmap\n",
    "    ground = kml.newgroundoverlay(name='Landing Zone Heatmap')\n",
    "    ground.icon.href = heatmap_filename\n",
    "    ground.latlonbox.north, ground.latlonbox.south = north, south\n",
    "    ground.latlonbox.east, ground.latlonbox.west = east, west\n",
    "\n",
    "    # 2. Add Labeled Trajectories and Landing Points\n",
    "    for i, profile in enumerate(all_profiles):\n",
    "        # Create a folder for each flight path to keep it organized\n",
    "        folder = kml.newfolder(name=f\"Flight #{i + 1}\")\n",
    "        \n",
    "        # Add the trajectory line\n",
    "        linestring = folder.newlinestring(name=\"Flight Path\")\n",
    "        coords = list(zip(profile.longitudeProfile, profile.latitudeProfile, profile.altitudeProfile))\n",
    "        linestring.coords = coords\n",
    "        linestring.altitudemode = simplekml.AltitudeMode.absolute\n",
    "        linestring.extrude = 0\n",
    "        linestring.style.linestyle.width = 2\n",
    "        \n",
    "        # THE FIX: Change color to blue and set transparency\n",
    "        alpha_hex = format(180, '02x') # ~70% opaque\n",
    "        linestring.style.linestyle.color = simplekml.Color.changealpha(alpha_hex, simplekml.Color.blue)\n",
    "\n",
    "        # Add the corresponding landing point marker\n",
    "        landing_lon, landing_lat = profile.longitudeProfile[-1], profile.latitudeProfile[-1]\n",
    "        folder.newpoint(name=f\"Landing Site\", coords=[(landing_lon, landing_lat)])\n",
    "\n",
    "    # Manually create the KMZ archive\n",
    "    kml_filename = \"doc.kml\"\n",
    "    kml.save(kml_filename)\n",
    "    output_filename_kmz = \"flight_trajectories.kmz\" # change this as needed\n",
    "    with zipfile.ZipFile(output_filename_kmz, 'w', zipfile.ZIP_DEFLATED) as kmz:\n",
    "        kmz.write(kml_filename)\n",
    "        kmz.write(heatmap_filename)\n",
    "    os.remove(kml_filename)\n",
    "    os.remove(heatmap_filename)\n",
    "\n",
    "    print(f\"\\nSuccess! Open {output_filename_kmz} in Google Earth to see the final visualization.\")\n",
    "\n",
    "# Run the full process\n",
    "run_trajectory_heatmap_simulation(num_runs=10) # here is where you change run #"
   ]
  },
  {
   "cell_type": "code",
   "execution_count": null,
   "id": "e7791dd9-fba5-48da-8fd8-7dc7152236ff",
   "metadata": {},
   "outputs": [],
   "source": []
  },
  {
   "cell_type": "code",
   "execution_count": null,
   "id": "d0985b6b-fa90-443b-beaf-975824538aad",
   "metadata": {},
   "outputs": [],
   "source": []
  }
 ],
 "metadata": {
  "kernelspec": {
   "display_name": "Python 3 (ipykernel)",
   "language": "python",
   "name": "python3"
  },
  "language_info": {
   "codemirror_mode": {
    "name": "ipython",
    "version": 3
   },
   "file_extension": ".py",
   "mimetype": "text/x-python",
   "name": "python",
   "nbconvert_exporter": "python",
   "pygments_lexer": "ipython3",
   "version": "3.10.18"
  }
 },
 "nbformat": 4,
 "nbformat_minor": 5
}
